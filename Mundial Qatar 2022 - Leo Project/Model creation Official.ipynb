{
 "cells": [
  {
   "cell_type": "markdown",
   "id": "b5d5bae5",
   "metadata": {},
   "source": [
    "## Importing Neccesary libraries"
   ]
  },
  {
   "cell_type": "code",
   "execution_count": 1,
   "id": "ce0a0772",
   "metadata": {},
   "outputs": [],
   "source": [
    "import numpy as np \n",
    "import pandas as pd \n",
    "import matplotlib.pyplot as plt\n",
    "import seaborn as sns\n",
    "import os\n",
    "import warnings\n",
    "from sklearn.metrics import accuracy_score\n",
    "from sklearn import metrics\n",
    "warnings.filterwarnings('ignore')"
   ]
  },
  {
   "cell_type": "markdown",
   "id": "6dbdd4b8",
   "metadata": {},
   "source": [
    "# Resume"
   ]
  },
  {
   "cell_type": "markdown",
   "id": "1656f3df",
   "metadata": {},
   "source": [
    "This notebook consists of gathering all the data created from the 2 following scripts:\n",
    "\n",
    "- Fifa 23 DataPreparation\n",
    "- EDA & training set\n",
    "\n",
    "Also, here we will proceed with the creation of the Machine Learning Model we will use on our FIFA World Cup Predictions.\n"
   ]
  },
  {
   "cell_type": "code",
   "execution_count": 2,
   "id": "79a75d35",
   "metadata": {},
   "outputs": [
    {
     "data": {
      "text/html": [
       "<div>\n",
       "<style scoped>\n",
       "    .dataframe tbody tr th:only-of-type {\n",
       "        vertical-align: middle;\n",
       "    }\n",
       "\n",
       "    .dataframe tbody tr th {\n",
       "        vertical-align: top;\n",
       "    }\n",
       "\n",
       "    .dataframe thead th {\n",
       "        text-align: right;\n",
       "    }\n",
       "</style>\n",
       "<table border=\"1\" class=\"dataframe\">\n",
       "  <thead>\n",
       "    <tr style=\"text-align: right;\">\n",
       "      <th></th>\n",
       "      <th>Team1</th>\n",
       "      <th>Team2</th>\n",
       "      <th>Team1_FIFA_RANK</th>\n",
       "      <th>Team2_FIFA_RANK</th>\n",
       "      <th>Team1_fifapoints</th>\n",
       "      <th>Team2_fifapoints</th>\n",
       "      <th>Team1_Result</th>\n",
       "      <th>Team1_Goalkeeper_Score</th>\n",
       "      <th>Team2_Goalkeeper_Score</th>\n",
       "      <th>Team1_Defense</th>\n",
       "      <th>Team1_Offense</th>\n",
       "      <th>Team1_Midfield</th>\n",
       "      <th>Team2_Defense</th>\n",
       "      <th>Team2_Offense</th>\n",
       "      <th>Team2_Midfield</th>\n",
       "    </tr>\n",
       "  </thead>\n",
       "  <tbody>\n",
       "    <tr>\n",
       "      <th>0</th>\n",
       "      <td>Bahrain</td>\n",
       "      <td>Qatar</td>\n",
       "      <td>101</td>\n",
       "      <td>88</td>\n",
       "      <td>325</td>\n",
       "      <td>364</td>\n",
       "      <td>2</td>\n",
       "      <td>65.0</td>\n",
       "      <td>65.0</td>\n",
       "      <td>65.0</td>\n",
       "      <td>65.0</td>\n",
       "      <td>65.0</td>\n",
       "      <td>65.0</td>\n",
       "      <td>65.0</td>\n",
       "      <td>65.0</td>\n",
       "    </tr>\n",
       "    <tr>\n",
       "      <th>1</th>\n",
       "      <td>Bulgaria</td>\n",
       "      <td>England</td>\n",
       "      <td>51</td>\n",
       "      <td>4</td>\n",
       "      <td>585</td>\n",
       "      <td>1176</td>\n",
       "      <td>0</td>\n",
       "      <td>80.0</td>\n",
       "      <td>83.0</td>\n",
       "      <td>71.0</td>\n",
       "      <td>74.0</td>\n",
       "      <td>74.0</td>\n",
       "      <td>84.0</td>\n",
       "      <td>81.0</td>\n",
       "      <td>86.0</td>\n",
       "    </tr>\n",
       "    <tr>\n",
       "      <th>2</th>\n",
       "      <td>Canada</td>\n",
       "      <td>St. Lucia</td>\n",
       "      <td>102</td>\n",
       "      <td>184</td>\n",
       "      <td>319</td>\n",
       "      <td>54</td>\n",
       "      <td>1</td>\n",
       "      <td>77.0</td>\n",
       "      <td>65.0</td>\n",
       "      <td>68.0</td>\n",
       "      <td>70.0</td>\n",
       "      <td>76.0</td>\n",
       "      <td>65.0</td>\n",
       "      <td>65.0</td>\n",
       "      <td>65.0</td>\n",
       "    </tr>\n",
       "    <tr>\n",
       "      <th>3</th>\n",
       "      <td>Cyprus</td>\n",
       "      <td>Portugal</td>\n",
       "      <td>76</td>\n",
       "      <td>8</td>\n",
       "      <td>426</td>\n",
       "      <td>1059</td>\n",
       "      <td>0</td>\n",
       "      <td>64.0</td>\n",
       "      <td>81.0</td>\n",
       "      <td>67.0</td>\n",
       "      <td>70.0</td>\n",
       "      <td>66.0</td>\n",
       "      <td>82.0</td>\n",
       "      <td>86.0</td>\n",
       "      <td>82.0</td>\n",
       "    </tr>\n",
       "    <tr>\n",
       "      <th>4</th>\n",
       "      <td>Ecuador</td>\n",
       "      <td>Jamaica</td>\n",
       "      <td>66</td>\n",
       "      <td>43</td>\n",
       "      <td>491</td>\n",
       "      <td>622</td>\n",
       "      <td>1</td>\n",
       "      <td>69.0</td>\n",
       "      <td>63.0</td>\n",
       "      <td>70.0</td>\n",
       "      <td>75.0</td>\n",
       "      <td>77.0</td>\n",
       "      <td>65.0</td>\n",
       "      <td>72.0</td>\n",
       "      <td>72.0</td>\n",
       "    </tr>\n",
       "  </tbody>\n",
       "</table>\n",
       "</div>"
      ],
      "text/plain": [
       "      Team1      Team2  Team1_FIFA_RANK  Team2_FIFA_RANK  Team1_fifapoints  \\\n",
       "0   Bahrain      Qatar              101               88               325   \n",
       "1  Bulgaria    England               51                4               585   \n",
       "2    Canada  St. Lucia              102              184               319   \n",
       "3    Cyprus   Portugal               76                8               426   \n",
       "4   Ecuador    Jamaica               66               43               491   \n",
       "\n",
       "   Team2_fifapoints  Team1_Result  Team1_Goalkeeper_Score  \\\n",
       "0               364             2                    65.0   \n",
       "1              1176             0                    80.0   \n",
       "2                54             1                    77.0   \n",
       "3              1059             0                    64.0   \n",
       "4               622             1                    69.0   \n",
       "\n",
       "   Team2_Goalkeeper_Score  Team1_Defense  Team1_Offense  Team1_Midfield  \\\n",
       "0                    65.0           65.0           65.0            65.0   \n",
       "1                    83.0           71.0           74.0            74.0   \n",
       "2                    65.0           68.0           70.0            76.0   \n",
       "3                    81.0           67.0           70.0            66.0   \n",
       "4                    63.0           70.0           75.0            77.0   \n",
       "\n",
       "   Team2_Defense  Team2_Offense  Team2_Midfield  \n",
       "0           65.0           65.0            65.0  \n",
       "1           84.0           81.0            86.0  \n",
       "2           65.0           65.0            65.0  \n",
       "3           82.0           86.0            82.0  \n",
       "4           65.0           72.0            72.0  "
      ]
     },
     "execution_count": 2,
     "metadata": {},
     "output_type": "execute_result"
    }
   ],
   "source": [
    "# This file comes from the \"Int Matches and EDA prep\" python script.\n",
    "data = pd.read_csv('datos/training_set.csv')\n",
    "data = data.drop('Unnamed: 0', axis=1)\n",
    "data.head()"
   ]
  },
  {
   "cell_type": "code",
   "execution_count": 3,
   "id": "0c9e8296",
   "metadata": {},
   "outputs": [],
   "source": [
    "data['team1_code'] = data['Team1'].astype('category').cat.codes\n",
    "data['opp_code'] = data['Team2'].astype('category').cat.codes"
   ]
  },
  {
   "cell_type": "code",
   "execution_count": 4,
   "id": "d7223f3c",
   "metadata": {},
   "outputs": [
    {
     "data": {
      "text/html": [
       "<div>\n",
       "<style scoped>\n",
       "    .dataframe tbody tr th:only-of-type {\n",
       "        vertical-align: middle;\n",
       "    }\n",
       "\n",
       "    .dataframe tbody tr th {\n",
       "        vertical-align: top;\n",
       "    }\n",
       "\n",
       "    .dataframe thead th {\n",
       "        text-align: right;\n",
       "    }\n",
       "</style>\n",
       "<table border=\"1\" class=\"dataframe\">\n",
       "  <thead>\n",
       "    <tr style=\"text-align: right;\">\n",
       "      <th></th>\n",
       "      <th>Team1</th>\n",
       "      <th>Team2</th>\n",
       "      <th>Team1_FIFA_RANK</th>\n",
       "      <th>Team2_FIFA_RANK</th>\n",
       "      <th>Team1_fifapoints</th>\n",
       "      <th>Team2_fifapoints</th>\n",
       "      <th>Team1_Result</th>\n",
       "      <th>Team1_Goalkeeper_Score</th>\n",
       "      <th>Team2_Goalkeeper_Score</th>\n",
       "      <th>Team1_Defense</th>\n",
       "      <th>Team1_Offense</th>\n",
       "      <th>Team1_Midfield</th>\n",
       "      <th>Team2_Defense</th>\n",
       "      <th>Team2_Offense</th>\n",
       "      <th>Team2_Midfield</th>\n",
       "      <th>team1_code</th>\n",
       "      <th>opp_code</th>\n",
       "    </tr>\n",
       "  </thead>\n",
       "  <tbody>\n",
       "    <tr>\n",
       "      <th>0</th>\n",
       "      <td>Bahrain</td>\n",
       "      <td>Qatar</td>\n",
       "      <td>101</td>\n",
       "      <td>88</td>\n",
       "      <td>325</td>\n",
       "      <td>364</td>\n",
       "      <td>2</td>\n",
       "      <td>65.0</td>\n",
       "      <td>65.0</td>\n",
       "      <td>65.0</td>\n",
       "      <td>65.0</td>\n",
       "      <td>65.0</td>\n",
       "      <td>65.0</td>\n",
       "      <td>65.0</td>\n",
       "      <td>65.0</td>\n",
       "      <td>12</td>\n",
       "      <td>137</td>\n",
       "    </tr>\n",
       "    <tr>\n",
       "      <th>1</th>\n",
       "      <td>Bulgaria</td>\n",
       "      <td>England</td>\n",
       "      <td>51</td>\n",
       "      <td>4</td>\n",
       "      <td>585</td>\n",
       "      <td>1176</td>\n",
       "      <td>0</td>\n",
       "      <td>80.0</td>\n",
       "      <td>83.0</td>\n",
       "      <td>71.0</td>\n",
       "      <td>74.0</td>\n",
       "      <td>74.0</td>\n",
       "      <td>84.0</td>\n",
       "      <td>81.0</td>\n",
       "      <td>86.0</td>\n",
       "      <td>25</td>\n",
       "      <td>51</td>\n",
       "    </tr>\n",
       "    <tr>\n",
       "      <th>2</th>\n",
       "      <td>Canada</td>\n",
       "      <td>St. Lucia</td>\n",
       "      <td>102</td>\n",
       "      <td>184</td>\n",
       "      <td>319</td>\n",
       "      <td>54</td>\n",
       "      <td>1</td>\n",
       "      <td>77.0</td>\n",
       "      <td>65.0</td>\n",
       "      <td>68.0</td>\n",
       "      <td>70.0</td>\n",
       "      <td>76.0</td>\n",
       "      <td>65.0</td>\n",
       "      <td>65.0</td>\n",
       "      <td>65.0</td>\n",
       "      <td>31</td>\n",
       "      <td>156</td>\n",
       "    </tr>\n",
       "    <tr>\n",
       "      <th>3</th>\n",
       "      <td>Cyprus</td>\n",
       "      <td>Portugal</td>\n",
       "      <td>76</td>\n",
       "      <td>8</td>\n",
       "      <td>426</td>\n",
       "      <td>1059</td>\n",
       "      <td>0</td>\n",
       "      <td>64.0</td>\n",
       "      <td>81.0</td>\n",
       "      <td>67.0</td>\n",
       "      <td>70.0</td>\n",
       "      <td>66.0</td>\n",
       "      <td>82.0</td>\n",
       "      <td>86.0</td>\n",
       "      <td>82.0</td>\n",
       "      <td>45</td>\n",
       "      <td>135</td>\n",
       "    </tr>\n",
       "    <tr>\n",
       "      <th>4</th>\n",
       "      <td>Ecuador</td>\n",
       "      <td>Jamaica</td>\n",
       "      <td>66</td>\n",
       "      <td>43</td>\n",
       "      <td>491</td>\n",
       "      <td>622</td>\n",
       "      <td>1</td>\n",
       "      <td>69.0</td>\n",
       "      <td>63.0</td>\n",
       "      <td>70.0</td>\n",
       "      <td>75.0</td>\n",
       "      <td>77.0</td>\n",
       "      <td>65.0</td>\n",
       "      <td>72.0</td>\n",
       "      <td>72.0</td>\n",
       "      <td>51</td>\n",
       "      <td>83</td>\n",
       "    </tr>\n",
       "  </tbody>\n",
       "</table>\n",
       "</div>"
      ],
      "text/plain": [
       "      Team1      Team2  Team1_FIFA_RANK  Team2_FIFA_RANK  Team1_fifapoints  \\\n",
       "0   Bahrain      Qatar              101               88               325   \n",
       "1  Bulgaria    England               51                4               585   \n",
       "2    Canada  St. Lucia              102              184               319   \n",
       "3    Cyprus   Portugal               76                8               426   \n",
       "4   Ecuador    Jamaica               66               43               491   \n",
       "\n",
       "   Team2_fifapoints  Team1_Result  Team1_Goalkeeper_Score  \\\n",
       "0               364             2                    65.0   \n",
       "1              1176             0                    80.0   \n",
       "2                54             1                    77.0   \n",
       "3              1059             0                    64.0   \n",
       "4               622             1                    69.0   \n",
       "\n",
       "   Team2_Goalkeeper_Score  Team1_Defense  Team1_Offense  Team1_Midfield  \\\n",
       "0                    65.0           65.0           65.0            65.0   \n",
       "1                    83.0           71.0           74.0            74.0   \n",
       "2                    65.0           68.0           70.0            76.0   \n",
       "3                    81.0           67.0           70.0            66.0   \n",
       "4                    63.0           70.0           75.0            77.0   \n",
       "\n",
       "   Team2_Defense  Team2_Offense  Team2_Midfield  team1_code  opp_code  \n",
       "0           65.0           65.0            65.0          12       137  \n",
       "1           84.0           81.0            86.0          25        51  \n",
       "2           65.0           65.0            65.0          31       156  \n",
       "3           82.0           86.0            82.0          45       135  \n",
       "4           65.0           72.0            72.0          51        83  "
      ]
     },
     "execution_count": 4,
     "metadata": {},
     "output_type": "execute_result"
    }
   ],
   "source": [
    "data.head()"
   ]
  },
  {
   "cell_type": "code",
   "execution_count": 5,
   "id": "2bba7667",
   "metadata": {},
   "outputs": [
    {
     "data": {
      "text/plain": [
       "(3558, 17)"
      ]
     },
     "execution_count": 5,
     "metadata": {},
     "output_type": "execute_result"
    }
   ],
   "source": [
    "data.shape"
   ]
  },
  {
   "cell_type": "code",
   "execution_count": 6,
   "id": "d1ce75f8",
   "metadata": {},
   "outputs": [
    {
     "data": {
      "text/plain": [
       "Team1                      object\n",
       "Team2                      object\n",
       "Team1_FIFA_RANK             int64\n",
       "Team2_FIFA_RANK             int64\n",
       "Team1_fifapoints            int64\n",
       "Team2_fifapoints            int64\n",
       "Team1_Result                int64\n",
       "Team1_Goalkeeper_Score    float64\n",
       "Team2_Goalkeeper_Score    float64\n",
       "Team1_Defense             float64\n",
       "Team1_Offense             float64\n",
       "Team1_Midfield            float64\n",
       "Team2_Defense             float64\n",
       "Team2_Offense             float64\n",
       "Team2_Midfield            float64\n",
       "team1_code                  int16\n",
       "opp_code                    int16\n",
       "dtype: object"
      ]
     },
     "execution_count": 6,
     "metadata": {},
     "output_type": "execute_result"
    }
   ],
   "source": [
    "data.dtypes"
   ]
  },
  {
   "cell_type": "code",
   "execution_count": 7,
   "id": "16ba8aae",
   "metadata": {},
   "outputs": [],
   "source": [
    "from sklearn.ensemble import RandomForestClassifier"
   ]
  },
  {
   "cell_type": "code",
   "execution_count": 8,
   "id": "7ad4f32e",
   "metadata": {},
   "outputs": [],
   "source": [
    "rf = RandomForestClassifier(n_estimators=50, min_samples_split = 10, random_state=1)"
   ]
  },
  {
   "cell_type": "code",
   "execution_count": 9,
   "id": "370e26dc",
   "metadata": {},
   "outputs": [
    {
     "name": "stdout",
     "output_type": "stream",
     "text": [
      "(3000, 17)\n",
      "(558, 17)\n"
     ]
    }
   ],
   "source": [
    "train = data.head(3000)\n",
    "test = data.tail(558)\n",
    "print(train.shape)\n",
    "print(test.shape)"
   ]
  },
  {
   "cell_type": "code",
   "execution_count": 10,
   "id": "c2b02830",
   "metadata": {},
   "outputs": [],
   "source": [
    "predictors = ['team1_code', 'opp_code',\n",
    "              'Team1_fifapoints', 'Team2_fifapoints',\n",
    "              'Team1_Goalkeeper_Score', 'Team2_Goalkeeper_Score', \n",
    "              'Team1_FIFA_RANK', 'Team2_FIFA_RANK', \n",
    "              'Team1_Defense', 'Team1_Offense', 'Team1_Midfield',\n",
    "              'Team2_Defense', 'Team2_Offense', 'Team2_Midfield']"
   ]
  },
  {
   "cell_type": "code",
   "execution_count": 11,
   "id": "d4dbf747",
   "metadata": {},
   "outputs": [
    {
     "data": {
      "text/plain": [
       "RandomForestClassifier(min_samples_split=10, n_estimators=50, random_state=1)"
      ]
     },
     "execution_count": 11,
     "metadata": {},
     "output_type": "execute_result"
    }
   ],
   "source": [
    "rf.fit(train[predictors], train['Team1_Result'])"
   ]
  },
  {
   "cell_type": "code",
   "execution_count": 12,
   "id": "76175321",
   "metadata": {},
   "outputs": [],
   "source": [
    "preds = rf.predict(test[predictors])"
   ]
  },
  {
   "cell_type": "code",
   "execution_count": 13,
   "id": "a860425c",
   "metadata": {},
   "outputs": [],
   "source": [
    "from sklearn.metrics import accuracy_score"
   ]
  },
  {
   "cell_type": "code",
   "execution_count": 14,
   "id": "98ed9f04",
   "metadata": {},
   "outputs": [],
   "source": [
    "acc = accuracy_score(test['Team1_Result'], preds)"
   ]
  },
  {
   "cell_type": "code",
   "execution_count": 15,
   "id": "84385a3f",
   "metadata": {},
   "outputs": [
    {
     "data": {
      "text/plain": [
       "0.6218637992831542"
      ]
     },
     "execution_count": 15,
     "metadata": {},
     "output_type": "execute_result"
    }
   ],
   "source": [
    "acc"
   ]
  },
  {
   "cell_type": "code",
   "execution_count": 16,
   "id": "372434b3",
   "metadata": {},
   "outputs": [],
   "source": [
    "combined = pd.DataFrame(dict(actual=test['Team1_Result'], prediction=preds))"
   ]
  },
  {
   "cell_type": "code",
   "execution_count": 17,
   "id": "30243db0",
   "metadata": {},
   "outputs": [
    {
     "data": {
      "text/html": [
       "<div>\n",
       "<style scoped>\n",
       "    .dataframe tbody tr th:only-of-type {\n",
       "        vertical-align: middle;\n",
       "    }\n",
       "\n",
       "    .dataframe tbody tr th {\n",
       "        vertical-align: top;\n",
       "    }\n",
       "\n",
       "    .dataframe thead th {\n",
       "        text-align: right;\n",
       "    }\n",
       "</style>\n",
       "<table border=\"1\" class=\"dataframe\">\n",
       "  <thead>\n",
       "    <tr style=\"text-align: right;\">\n",
       "      <th>prediction</th>\n",
       "      <th>0</th>\n",
       "      <th>1</th>\n",
       "      <th>2</th>\n",
       "    </tr>\n",
       "    <tr>\n",
       "      <th>actual</th>\n",
       "      <th></th>\n",
       "      <th></th>\n",
       "      <th></th>\n",
       "    </tr>\n",
       "  </thead>\n",
       "  <tbody>\n",
       "    <tr>\n",
       "      <th>0</th>\n",
       "      <td>93</td>\n",
       "      <td>38</td>\n",
       "      <td>17</td>\n",
       "    </tr>\n",
       "    <tr>\n",
       "      <th>1</th>\n",
       "      <td>24</td>\n",
       "      <td>246</td>\n",
       "      <td>23</td>\n",
       "    </tr>\n",
       "    <tr>\n",
       "      <th>2</th>\n",
       "      <td>48</td>\n",
       "      <td>61</td>\n",
       "      <td>8</td>\n",
       "    </tr>\n",
       "  </tbody>\n",
       "</table>\n",
       "</div>"
      ],
      "text/plain": [
       "prediction   0    1   2\n",
       "actual                 \n",
       "0           93   38  17\n",
       "1           24  246  23\n",
       "2           48   61   8"
      ]
     },
     "execution_count": 17,
     "metadata": {},
     "output_type": "execute_result"
    }
   ],
   "source": [
    "pd.crosstab(index=combined['actual'], columns=combined['prediction'])"
   ]
  },
  {
   "cell_type": "markdown",
   "id": "82904e12",
   "metadata": {},
   "source": [
    "#### Here we will begin a process but only considering wins and losses. \n",
    "\n",
    "- Draws will be considered as losses. \n",
    "- We will make this since it seems there are many issues with the draws recognition as we see above (Labeled as 2)\n",
    "- By this way, model should work on a simpler way."
   ]
  },
  {
   "cell_type": "code",
   "execution_count": 18,
   "id": "6586d77c",
   "metadata": {},
   "outputs": [],
   "source": [
    "data_m = data"
   ]
  },
  {
   "cell_type": "code",
   "execution_count": 19,
   "id": "6baaa583",
   "metadata": {},
   "outputs": [],
   "source": [
    "data_m = data_m.drop(['team1_code', 'opp_code'], axis=1)"
   ]
  },
  {
   "cell_type": "code",
   "execution_count": 20,
   "id": "47817ab6",
   "metadata": {},
   "outputs": [],
   "source": [
    "predictors = ['Team1_fifapoints', 'Team2_fifapoints',\n",
    "              'Team1_Goalkeeper_Score', 'Team2_Goalkeeper_Score', \n",
    "              'Team1_FIFA_RANK', 'Team2_FIFA_RANK', \n",
    "              'Team1_Defense', 'Team1_Offense', 'Team1_Midfield',\n",
    "              'Team2_Defense', 'Team2_Offense', 'Team2_Midfield']"
   ]
  },
  {
   "cell_type": "code",
   "execution_count": 21,
   "id": "34387405",
   "metadata": {},
   "outputs": [],
   "source": [
    "data_m['Team1_Result'] = data_m['Team1_Result'].replace(2, 0)"
   ]
  },
  {
   "cell_type": "code",
   "execution_count": 22,
   "id": "e970fc64",
   "metadata": {},
   "outputs": [
    {
     "data": {
      "text/html": [
       "<div>\n",
       "<style scoped>\n",
       "    .dataframe tbody tr th:only-of-type {\n",
       "        vertical-align: middle;\n",
       "    }\n",
       "\n",
       "    .dataframe tbody tr th {\n",
       "        vertical-align: top;\n",
       "    }\n",
       "\n",
       "    .dataframe thead th {\n",
       "        text-align: right;\n",
       "    }\n",
       "</style>\n",
       "<table border=\"1\" class=\"dataframe\">\n",
       "  <thead>\n",
       "    <tr style=\"text-align: right;\">\n",
       "      <th></th>\n",
       "      <th>Team1</th>\n",
       "      <th>Team2</th>\n",
       "      <th>Team1_FIFA_RANK</th>\n",
       "      <th>Team2_FIFA_RANK</th>\n",
       "      <th>Team1_fifapoints</th>\n",
       "      <th>Team2_fifapoints</th>\n",
       "      <th>Team1_Result</th>\n",
       "      <th>Team1_Goalkeeper_Score</th>\n",
       "      <th>Team2_Goalkeeper_Score</th>\n",
       "      <th>Team1_Defense</th>\n",
       "      <th>Team1_Offense</th>\n",
       "      <th>Team1_Midfield</th>\n",
       "      <th>Team2_Defense</th>\n",
       "      <th>Team2_Offense</th>\n",
       "      <th>Team2_Midfield</th>\n",
       "    </tr>\n",
       "  </thead>\n",
       "  <tbody>\n",
       "    <tr>\n",
       "      <th>0</th>\n",
       "      <td>Bahrain</td>\n",
       "      <td>Qatar</td>\n",
       "      <td>101</td>\n",
       "      <td>88</td>\n",
       "      <td>325</td>\n",
       "      <td>364</td>\n",
       "      <td>0</td>\n",
       "      <td>65.0</td>\n",
       "      <td>65.0</td>\n",
       "      <td>65.0</td>\n",
       "      <td>65.0</td>\n",
       "      <td>65.0</td>\n",
       "      <td>65.0</td>\n",
       "      <td>65.0</td>\n",
       "      <td>65.0</td>\n",
       "    </tr>\n",
       "    <tr>\n",
       "      <th>1</th>\n",
       "      <td>Bulgaria</td>\n",
       "      <td>England</td>\n",
       "      <td>51</td>\n",
       "      <td>4</td>\n",
       "      <td>585</td>\n",
       "      <td>1176</td>\n",
       "      <td>0</td>\n",
       "      <td>80.0</td>\n",
       "      <td>83.0</td>\n",
       "      <td>71.0</td>\n",
       "      <td>74.0</td>\n",
       "      <td>74.0</td>\n",
       "      <td>84.0</td>\n",
       "      <td>81.0</td>\n",
       "      <td>86.0</td>\n",
       "    </tr>\n",
       "    <tr>\n",
       "      <th>2</th>\n",
       "      <td>Canada</td>\n",
       "      <td>St. Lucia</td>\n",
       "      <td>102</td>\n",
       "      <td>184</td>\n",
       "      <td>319</td>\n",
       "      <td>54</td>\n",
       "      <td>1</td>\n",
       "      <td>77.0</td>\n",
       "      <td>65.0</td>\n",
       "      <td>68.0</td>\n",
       "      <td>70.0</td>\n",
       "      <td>76.0</td>\n",
       "      <td>65.0</td>\n",
       "      <td>65.0</td>\n",
       "      <td>65.0</td>\n",
       "    </tr>\n",
       "    <tr>\n",
       "      <th>3</th>\n",
       "      <td>Cyprus</td>\n",
       "      <td>Portugal</td>\n",
       "      <td>76</td>\n",
       "      <td>8</td>\n",
       "      <td>426</td>\n",
       "      <td>1059</td>\n",
       "      <td>0</td>\n",
       "      <td>64.0</td>\n",
       "      <td>81.0</td>\n",
       "      <td>67.0</td>\n",
       "      <td>70.0</td>\n",
       "      <td>66.0</td>\n",
       "      <td>82.0</td>\n",
       "      <td>86.0</td>\n",
       "      <td>82.0</td>\n",
       "    </tr>\n",
       "    <tr>\n",
       "      <th>4</th>\n",
       "      <td>Ecuador</td>\n",
       "      <td>Jamaica</td>\n",
       "      <td>66</td>\n",
       "      <td>43</td>\n",
       "      <td>491</td>\n",
       "      <td>622</td>\n",
       "      <td>1</td>\n",
       "      <td>69.0</td>\n",
       "      <td>63.0</td>\n",
       "      <td>70.0</td>\n",
       "      <td>75.0</td>\n",
       "      <td>77.0</td>\n",
       "      <td>65.0</td>\n",
       "      <td>72.0</td>\n",
       "      <td>72.0</td>\n",
       "    </tr>\n",
       "  </tbody>\n",
       "</table>\n",
       "</div>"
      ],
      "text/plain": [
       "      Team1      Team2  Team1_FIFA_RANK  Team2_FIFA_RANK  Team1_fifapoints  \\\n",
       "0   Bahrain      Qatar              101               88               325   \n",
       "1  Bulgaria    England               51                4               585   \n",
       "2    Canada  St. Lucia              102              184               319   \n",
       "3    Cyprus   Portugal               76                8               426   \n",
       "4   Ecuador    Jamaica               66               43               491   \n",
       "\n",
       "   Team2_fifapoints  Team1_Result  Team1_Goalkeeper_Score  \\\n",
       "0               364             0                    65.0   \n",
       "1              1176             0                    80.0   \n",
       "2                54             1                    77.0   \n",
       "3              1059             0                    64.0   \n",
       "4               622             1                    69.0   \n",
       "\n",
       "   Team2_Goalkeeper_Score  Team1_Defense  Team1_Offense  Team1_Midfield  \\\n",
       "0                    65.0           65.0           65.0            65.0   \n",
       "1                    83.0           71.0           74.0            74.0   \n",
       "2                    65.0           68.0           70.0            76.0   \n",
       "3                    81.0           67.0           70.0            66.0   \n",
       "4                    63.0           70.0           75.0            77.0   \n",
       "\n",
       "   Team2_Defense  Team2_Offense  Team2_Midfield  \n",
       "0           65.0           65.0            65.0  \n",
       "1           84.0           81.0            86.0  \n",
       "2           65.0           65.0            65.0  \n",
       "3           82.0           86.0            82.0  \n",
       "4           65.0           72.0            72.0  "
      ]
     },
     "execution_count": 22,
     "metadata": {},
     "output_type": "execute_result"
    }
   ],
   "source": [
    "data_m.head()"
   ]
  },
  {
   "cell_type": "code",
   "execution_count": 23,
   "id": "1a667b0c",
   "metadata": {},
   "outputs": [
    {
     "name": "stdout",
     "output_type": "stream",
     "text": [
      "(3000, 15)\n",
      "(558, 15)\n"
     ]
    }
   ],
   "source": [
    "train = data_m.head(3000)\n",
    "test = data_m.tail(558)\n",
    "print(train.shape)\n",
    "print(test.shape)"
   ]
  },
  {
   "cell_type": "code",
   "execution_count": 24,
   "id": "6e16b3c8",
   "metadata": {},
   "outputs": [
    {
     "data": {
      "text/plain": [
       "0.7293906810035843"
      ]
     },
     "execution_count": 24,
     "metadata": {},
     "output_type": "execute_result"
    }
   ],
   "source": [
    "rf.fit(train[predictors], train['Team1_Result'])\n",
    "preds = rf.predict(test[predictors])\n",
    "acc = accuracy_score(test['Team1_Result'], preds)\n",
    "acc"
   ]
  },
  {
   "cell_type": "code",
   "execution_count": 25,
   "id": "d39e0071",
   "metadata": {},
   "outputs": [
    {
     "data": {
      "text/html": [
       "<div>\n",
       "<style scoped>\n",
       "    .dataframe tbody tr th:only-of-type {\n",
       "        vertical-align: middle;\n",
       "    }\n",
       "\n",
       "    .dataframe tbody tr th {\n",
       "        vertical-align: top;\n",
       "    }\n",
       "\n",
       "    .dataframe thead th {\n",
       "        text-align: right;\n",
       "    }\n",
       "</style>\n",
       "<table border=\"1\" class=\"dataframe\">\n",
       "  <thead>\n",
       "    <tr style=\"text-align: right;\">\n",
       "      <th>prediction</th>\n",
       "      <th>0</th>\n",
       "      <th>1</th>\n",
       "    </tr>\n",
       "    <tr>\n",
       "      <th>actual</th>\n",
       "      <th></th>\n",
       "      <th></th>\n",
       "    </tr>\n",
       "  </thead>\n",
       "  <tbody>\n",
       "    <tr>\n",
       "      <th>0</th>\n",
       "      <td>192</td>\n",
       "      <td>73</td>\n",
       "    </tr>\n",
       "    <tr>\n",
       "      <th>1</th>\n",
       "      <td>78</td>\n",
       "      <td>215</td>\n",
       "    </tr>\n",
       "  </tbody>\n",
       "</table>\n",
       "</div>"
      ],
      "text/plain": [
       "prediction    0    1\n",
       "actual              \n",
       "0           192   73\n",
       "1            78  215"
      ]
     },
     "execution_count": 25,
     "metadata": {},
     "output_type": "execute_result"
    }
   ],
   "source": [
    "combined = pd.DataFrame(dict(actual=test['Team1_Result'], prediction=preds))\n",
    "pd.crosstab(index=combined['actual'], columns=combined['prediction'])"
   ]
  },
  {
   "cell_type": "markdown",
   "id": "14b621bc",
   "metadata": {},
   "source": [
    "#### We can clearly see a huge improvement on our model. We now have an accuracy on 0.75 "
   ]
  },
  {
   "cell_type": "code",
   "execution_count": 26,
   "id": "3a76db69",
   "metadata": {},
   "outputs": [],
   "source": [
    "from sklearn.metrics import precision_score"
   ]
  },
  {
   "cell_type": "code",
   "execution_count": 27,
   "id": "ab5bb827",
   "metadata": {},
   "outputs": [
    {
     "data": {
      "text/plain": [
       "0.7465277777777778"
      ]
     },
     "execution_count": 27,
     "metadata": {},
     "output_type": "execute_result"
    }
   ],
   "source": [
    "precision_score(test['Team1_Result'], preds)"
   ]
  },
  {
   "cell_type": "markdown",
   "id": "fca04287",
   "metadata": {},
   "source": [
    "Precision means that when we predicted wins, the team actually won 76 % of the time"
   ]
  },
  {
   "cell_type": "code",
   "execution_count": 28,
   "id": "e8589851",
   "metadata": {},
   "outputs": [],
   "source": [
    "data = data.drop(['Team1_fifapoints', 'Team2_fifapoints'],axis=1)"
   ]
  },
  {
   "cell_type": "code",
   "execution_count": 29,
   "id": "607a447b",
   "metadata": {},
   "outputs": [],
   "source": [
    "data['Team1_Result'] = data['Team1_Result'].replace(2, 0)"
   ]
  },
  {
   "cell_type": "code",
   "execution_count": 30,
   "id": "4f1252b8",
   "metadata": {},
   "outputs": [],
   "source": [
    "pipe_DF = data"
   ]
  },
  {
   "cell_type": "code",
   "execution_count": 31,
   "id": "8e9a3578",
   "metadata": {},
   "outputs": [],
   "source": [
    "data = pd.get_dummies(data)"
   ]
  },
  {
   "cell_type": "code",
   "execution_count": 32,
   "id": "f828431e",
   "metadata": {},
   "outputs": [],
   "source": [
    "X = data.drop('Team1_Result',axis=1)\n",
    "y = data['Team1_Result']"
   ]
  },
  {
   "cell_type": "code",
   "execution_count": 33,
   "id": "2ba483b9",
   "metadata": {},
   "outputs": [],
   "source": [
    "from sklearn.model_selection import train_test_split\n",
    "X_train, X_test, y_train, y_test = train_test_split(X, y, test_size=0.1, random_state=42)"
   ]
  },
  {
   "cell_type": "code",
   "execution_count": 34,
   "id": "52cb4ea3",
   "metadata": {},
   "outputs": [],
   "source": [
    "from sklearn.preprocessing import StandardScaler\n",
    "scaler = StandardScaler()\n",
    "X_train = scaler.fit_transform(X_train)\n",
    "X_test = scaler.transform(X_test)"
   ]
  },
  {
   "cell_type": "code",
   "execution_count": 35,
   "id": "ddfca4bc",
   "metadata": {},
   "outputs": [],
   "source": [
    "from sklearn.metrics import classification_report,ConfusionMatrixDisplay\n",
    "def metrics_display(model):\n",
    "    model.fit(X_train,y_train)\n",
    "    y_pred = model.predict(X_test)\n",
    "    print(classification_report(y_test,y_pred))\n",
    "    ConfusionMatrixDisplay.from_predictions(y_test,y_pred);"
   ]
  },
  {
   "cell_type": "markdown",
   "id": "c9236e3f",
   "metadata": {},
   "source": [
    "## Random Forest"
   ]
  },
  {
   "cell_type": "code",
   "execution_count": 36,
   "id": "a4b74cfe",
   "metadata": {},
   "outputs": [
    {
     "name": "stdout",
     "output_type": "stream",
     "text": [
      "              precision    recall  f1-score   support\n",
      "\n",
      "           0       0.76      0.74      0.75       200\n",
      "           1       0.68      0.70      0.69       156\n",
      "\n",
      "    accuracy                           0.72       356\n",
      "   macro avg       0.72      0.72      0.72       356\n",
      "weighted avg       0.73      0.72      0.73       356\n",
      "\n"
     ]
    },
    {
     "data": {
      "image/png": "[encoded data removed]",
      "text/plain": [
       "<Figure size 640x480 with 2 Axes>"
      ]
     },
     "metadata": {},
     "output_type": "display_data"
    }
   ],
   "source": [
    "metrics_display(RandomForestClassifier())"
   ]
  },
  {
   "cell_type": "markdown",
   "id": "35a9119b",
   "metadata": {},
   "source": [
    "## AdaBoost Classifier"
   ]
  },
  {
   "cell_type": "code",
   "execution_count": 37,
   "id": "dbd51d26",
   "metadata": {},
   "outputs": [
    {
     "name": "stdout",
     "output_type": "stream",
     "text": [
      "              precision    recall  f1-score   support\n",
      "\n",
      "           0       0.75      0.67      0.70       200\n",
      "           1       0.62      0.71      0.66       156\n",
      "\n",
      "    accuracy                           0.69       356\n",
      "   macro avg       0.69      0.69      0.68       356\n",
      "weighted avg       0.69      0.69      0.69       356\n",
      "\n"
     ]
    },
    {
     "data": {
      "image/png": "[encoded data removed]",
      "text/plain": [
       "<Figure size 640x480 with 2 Axes>"
      ]
     },
     "metadata": {},
     "output_type": "display_data"
    }
   ],
   "source": [
    "from sklearn.ensemble import AdaBoostClassifier\n",
    "metrics_display(AdaBoostClassifier())"
   ]
  },
  {
   "cell_type": "markdown",
   "id": "289a81de",
   "metadata": {},
   "source": [
    "## XGB Boost"
   ]
  },
  {
   "cell_type": "code",
   "execution_count": 38,
   "id": "5acd6798",
   "metadata": {},
   "outputs": [
    {
     "name": "stdout",
     "output_type": "stream",
     "text": [
      "              precision    recall  f1-score   support\n",
      "\n",
      "           0       0.73      0.71      0.72       200\n",
      "           1       0.64      0.66      0.65       156\n",
      "\n",
      "    accuracy                           0.69       356\n",
      "   macro avg       0.68      0.69      0.68       356\n",
      "weighted avg       0.69      0.69      0.69       356\n",
      "\n"
     ]
    },
    {
     "data": {
      "image/png": "[encoded data removed]",
      "text/plain": [
       "<Figure size 640x480 with 2 Axes>"
      ]
     },
     "metadata": {},
     "output_type": "display_data"
    }
   ],
   "source": [
    "from xgboost import XGBClassifier\n",
    "metrics_display(XGBClassifier(use_label_encoder=False))"
   ]
  },
  {
   "cell_type": "markdown",
   "id": "5858c74c",
   "metadata": {},
   "source": [
    "## Neural Network"
   ]
  },
  {
   "cell_type": "code",
   "execution_count": 39,
   "id": "26437474",
   "metadata": {},
   "outputs": [
    {
     "data": {
      "text/plain": [
       "(3202, 380)"
      ]
     },
     "execution_count": 39,
     "metadata": {},
     "output_type": "execute_result"
    }
   ],
   "source": [
    "import keras\n",
    "from keras import Sequential\n",
    "from keras.layers import Dense,Dropout\n",
    "from keras import Input\n",
    "X_train.shape"
   ]
  },
  {
   "cell_type": "code",
   "execution_count": 40,
   "id": "dfc590c3",
   "metadata": {},
   "outputs": [
    {
     "name": "stdout",
     "output_type": "stream",
     "text": [
      "Epoch 1/20\n",
      "81/81 [==============================] - 1s 5ms/step - loss: 0.7047 - accuracy: 0.6166 - val_loss: 0.5971 - val_accuracy: 0.6802\n",
      "Epoch 2/20\n",
      "81/81 [==============================] - 0s 3ms/step - loss: 0.5617 - accuracy: 0.7142 - val_loss: 0.5910 - val_accuracy: 0.6771\n",
      "Epoch 3/20\n",
      "81/81 [==============================] - 0s 3ms/step - loss: 0.5182 - accuracy: 0.7380 - val_loss: 0.6004 - val_accuracy: 0.6661\n",
      "Epoch 4/20\n",
      "81/81 [==============================] - 0s 3ms/step - loss: 0.4907 - accuracy: 0.7520 - val_loss: 0.6454 - val_accuracy: 0.6755\n",
      "Epoch 5/20\n",
      "81/81 [==============================] - 0s 3ms/step - loss: 0.4749 - accuracy: 0.7700 - val_loss: 0.6142 - val_accuracy: 0.6849\n",
      "Epoch 6/20\n",
      "81/81 [==============================] - 0s 3ms/step - loss: 0.4585 - accuracy: 0.7724 - val_loss: 0.6579 - val_accuracy: 0.6677\n",
      "Epoch 7/20\n",
      "81/81 [==============================] - 0s 3ms/step - loss: 0.4518 - accuracy: 0.7763 - val_loss: 0.7033 - val_accuracy: 0.6895\n",
      "Epoch 8/20\n",
      "81/81 [==============================] - 0s 3ms/step - loss: 0.4326 - accuracy: 0.7763 - val_loss: 0.7031 - val_accuracy: 0.6693\n",
      "Epoch 9/20\n",
      "81/81 [==============================] - 0s 3ms/step - loss: 0.4154 - accuracy: 0.7899 - val_loss: 0.7317 - val_accuracy: 0.6661\n",
      "Epoch 10/20\n",
      "81/81 [==============================] - 0s 3ms/step - loss: 0.4050 - accuracy: 0.7915 - val_loss: 0.7523 - val_accuracy: 0.6708\n",
      "Epoch 11/20\n",
      "81/81 [==============================] - 0s 3ms/step - loss: 0.3927 - accuracy: 0.8024 - val_loss: 0.8244 - val_accuracy: 0.6677\n",
      "Epoch 12/20\n",
      "81/81 [==============================] - 0s 3ms/step - loss: 0.3813 - accuracy: 0.8091 - val_loss: 0.8557 - val_accuracy: 0.6708\n",
      "Epoch 13/20\n",
      "81/81 [==============================] - 0s 3ms/step - loss: 0.3669 - accuracy: 0.8188 - val_loss: 0.8845 - val_accuracy: 0.6583\n",
      "Epoch 14/20\n",
      "81/81 [==============================] - 0s 3ms/step - loss: 0.3542 - accuracy: 0.8130 - val_loss: 0.9588 - val_accuracy: 0.6646\n",
      "Epoch 15/20\n",
      "81/81 [==============================] - 0s 3ms/step - loss: 0.3447 - accuracy: 0.8274 - val_loss: 1.0143 - val_accuracy: 0.6739\n",
      "Epoch 16/20\n",
      "81/81 [==============================] - 0s 3ms/step - loss: 0.3410 - accuracy: 0.8270 - val_loss: 0.9979 - val_accuracy: 0.6739\n",
      "Epoch 17/20\n",
      "81/81 [==============================] - 0s 3ms/step - loss: 0.3276 - accuracy: 0.8344 - val_loss: 1.0284 - val_accuracy: 0.6755\n",
      "Epoch 18/20\n",
      "81/81 [==============================] - 0s 3ms/step - loss: 0.3271 - accuracy: 0.8380 - val_loss: 1.0929 - val_accuracy: 0.6646\n",
      "Epoch 19/20\n",
      "81/81 [==============================] - 0s 3ms/step - loss: 0.3102 - accuracy: 0.8485 - val_loss: 1.1089 - val_accuracy: 0.6583\n",
      "Epoch 20/20\n",
      "81/81 [==============================] - 0s 3ms/step - loss: 0.2904 - accuracy: 0.8618 - val_loss: 1.2306 - val_accuracy: 0.6693\n",
      "12/12 [==============================] - 0s 1ms/step\n",
      "              precision    recall  f1-score   support\n",
      "\n",
      "           0       0.72      0.64      0.68       200\n",
      "           1       0.59      0.69      0.64       156\n",
      "\n",
      "    accuracy                           0.66       356\n",
      "   macro avg       0.66      0.66      0.66       356\n",
      "weighted avg       0.67      0.66      0.66       356\n",
      "\n"
     ]
    },
    {
     "data": {
      "text/plain": [
       "<sklearn.metrics._plot.confusion_matrix.ConfusionMatrixDisplay at 0x2321a5a3a60>"
      ]
     },
     "execution_count": 40,
     "metadata": {},
     "output_type": "execute_result"
    },
    {
     "data": {
      "image/png": "[encoded data removed]",
      "text/plain": [
       "<Figure size 640x480 with 2 Axes>"
      ]
     },
     "metadata": {},
     "output_type": "display_data"
    }
   ],
   "source": [
    "model = Sequential()\n",
    "model.add(Input(shape=(380,)))\n",
    "model.add(Dense(300,activation='relu'))\n",
    "model.add(Dropout(0.3))\n",
    "model.add(Dense(200,activation='relu'))\n",
    "model.add(Dropout(0.3))\n",
    "model.add(Dense(100,activation='relu'))\n",
    "model.add(Dropout(0.3))\n",
    "model.add(Dense(3,activation='softmax'))\n",
    "model.compile(loss='sparse_categorical_crossentropy', optimizer='adam', metrics=['accuracy'])\n",
    "neural = model.fit(X_train,y_train,epochs=20,validation_split=0.2)\n",
    "\n",
    "y_pred1 = model.predict(X_test)\n",
    "y_pred1 = np.argmax(y_pred1,axis=1)\n",
    "print(classification_report(y_test,y_pred1))\n",
    "ConfusionMatrixDisplay.from_predictions(y_test,y_pred1)\n"
   ]
  },
  {
   "cell_type": "markdown",
   "id": "a0950973",
   "metadata": {},
   "source": [
    "From all models showed above, the best one seems to be either Random Forest or Neural Network. We will try some hyperparameters and evaluate the performance based on the validation dataset for both."
   ]
  },
  {
   "cell_type": "code",
   "execution_count": 41,
   "id": "55f07c3b",
   "metadata": {},
   "outputs": [],
   "source": [
    "def plot_graph_accuracy(history, accuracy):\n",
    "    plt.plot(history.history[accuracy])\n",
    "    plt.xlabel(\"Epochs\")\n",
    "    plt.ylabel(accuracy)\n",
    "    plt.show()\n",
    "    \n",
    "def plot_graph_loss(history, loss):\n",
    "    plt.plot(history.history[loss])\n",
    "    plt.xlabel(\"Epochs\")\n",
    "    plt.ylabel(loss)\n",
    "    plt.show()\n"
   ]
  },
  {
   "cell_type": "code",
   "execution_count": 42,
   "id": "bb23d504",
   "metadata": {
    "scrolled": true
   },
   "outputs": [
    {
     "data": {
      "image/png": "[encoded data removed]",
      "text/plain": [
       "<Figure size 640x480 with 1 Axes>"
      ]
     },
     "metadata": {},
     "output_type": "display_data"
    },
    {
     "data": {
      "image/png": "[encoded data removed]",
      "text/plain": [
       "<Figure size 640x480 with 1 Axes>"
      ]
     },
     "metadata": {},
     "output_type": "display_data"
    }
   ],
   "source": [
    "plot_graph_accuracy(neural, 'accuracy')\n",
    "plot_graph_loss(neural, 'loss')"
   ]
  },
  {
   "cell_type": "markdown",
   "id": "6e57302c",
   "metadata": {},
   "source": [
    "#### From all models above, we can see that Random Forest seems to be the best one. We will proceed with a hyperparameter tuning for that model."
   ]
  },
  {
   "cell_type": "code",
   "execution_count": 43,
   "id": "7a2e5f98",
   "metadata": {},
   "outputs": [],
   "source": [
    "def get_accuracy(X_train, X_test, y_train, y_test, model):\n",
    "    return  {\"test Accuracy\":metrics.accuracy_score(y_test, model.predict(X_test)),\"train Accuracy\": metrics.accuracy_score(y_train, model.predict(X_train))}"
   ]
  },
  {
   "cell_type": "code",
   "execution_count": 44,
   "id": "6f3e67be",
   "metadata": {},
   "outputs": [
    {
     "name": "stdout",
     "output_type": "stream",
     "text": [
      "{'test Accuracy': 0.7303370786516854, 'train Accuracy': 0.995627732667083}\n"
     ]
    }
   ],
   "source": [
    "model = RandomForestClassifier(random_state=0)\n",
    "model.fit(X_train,y_train)\n",
    "print(get_accuracy(X_train, X_test, y_train, y_test, model))"
   ]
  },
  {
   "cell_type": "markdown",
   "id": "3df7c98d",
   "metadata": {},
   "source": [
    "We see that this model looks good but seems to be overfitted. Let´s use hyperparameter tuning to reduce the overfitting"
   ]
  },
  {
   "cell_type": "code",
   "execution_count": 45,
   "id": "f18d65c3",
   "metadata": {},
   "outputs": [],
   "source": [
    "from sklearn.model_selection import GridSearchCV\n",
    "\n",
    "param_grid = {'n_estimators': [2*n+1 for n in range(20)],\n",
    "             'max_depth' : [2*n+1 for n in range(10) ],\n",
    "             'max_features':[\"auto\", \"sqrt\", \"log2\"],\n",
    "             'min_samples_split' : [2,5],\n",
    "             'min_samples_leaf' : [1,2],\n",
    "             'bootstrap' : [True, False]}"
   ]
  },
  {
   "cell_type": "code",
   "execution_count": 46,
   "id": "a18cbe7a",
   "metadata": {},
   "outputs": [],
   "source": [
    "# Below you can see the hyperparameter tuning. I will avoid it here since it takes long time. On chart below you can see the results.\n",
    "\n",
    "# search = GridSearchCV(estimator=model, param_grid=param_grid,scoring='accuracy')\n",
    "# search.fit(X_train, y_train)\n",
    "# print(search.best_score_)\n",
    "# print(search.best_params_)\n",
    "# print(get_accuracy(X_train, X_test, y_train, y_test, search.best_estimator_))"
   ]
  },
  {
   "cell_type": "code",
   "execution_count": 47,
   "id": "1c2cfde3",
   "metadata": {},
   "outputs": [
    {
     "name": "stdout",
     "output_type": "stream",
     "text": [
      "{'test Accuracy': 0.7106741573033708, 'train Accuracy': 0.7945034353529045}\n"
     ]
    }
   ],
   "source": [
    "ok_param_grid = {'n_estimators': 31,\n",
    "             'max_depth' : 17 ,\n",
    "             'max_features': 'auto',\n",
    "             'min_samples_split' : 2,\n",
    "             'min_samples_leaf' : 2,\n",
    "             'bootstrap' : True}\n",
    "\n",
    "model = RandomForestClassifier(n_estimators = 31, max_depth=17, min_samples_split = 2, min_samples_leaf = 2,\n",
    "                               max_features = 'auto', random_state=0)\n",
    "model.fit(X_train,y_train)\n",
    "print(get_accuracy(X_train, X_test, y_train, y_test, model))"
   ]
  },
  {
   "cell_type": "code",
   "execution_count": 51,
   "id": "56cd5413",
   "metadata": {},
   "outputs": [
    {
     "name": "stdout",
     "output_type": "stream",
     "text": [
      "              precision    recall  f1-score   support\n",
      "\n",
      "           0       0.76      0.71      0.73       200\n",
      "           1       0.66      0.71      0.68       156\n",
      "\n",
      "    accuracy                           0.71       356\n",
      "   macro avg       0.71      0.71      0.71       356\n",
      "weighted avg       0.71      0.71      0.71       356\n",
      "\n"
     ]
    },
    {
     "data": {
      "image/png": "[encoded data removed]",
      "text/plain": [
       "<Figure size 640x480 with 2 Axes>"
      ]
     },
     "metadata": {},
     "output_type": "display_data"
    }
   ],
   "source": [
    "metrics_display(model)"
   ]
  },
  {
   "cell_type": "markdown",
   "id": "bc962afc",
   "metadata": {},
   "source": [
    "##### We will finally create a pipeline to store the results, so we can use this model on our future predictions."
   ]
  },
  {
   "cell_type": "code",
   "execution_count": 48,
   "id": "f3f1ab41",
   "metadata": {},
   "outputs": [
    {
     "data": {
      "text/plain": [
       "Pipeline(steps=[('columntransformer',\n",
       "                 ColumnTransformer(remainder='passthrough',\n",
       "                                   transformers=[('onehotencoder',\n",
       "                                                  OneHotEncoder(),\n",
       "                                                  ['Team1', 'Team2'])])),\n",
       "                ('standardscaler', StandardScaler(with_mean=False)),\n",
       "                ('randomforestclassifier',\n",
       "                 RandomForestClassifier(max_depth=17, min_samples_leaf=2,\n",
       "                                        n_estimators=31, random_state=0))])"
      ]
     },
     "execution_count": 48,
     "metadata": {},
     "output_type": "execute_result"
    }
   ],
   "source": [
    "from sklearn.preprocessing import OneHotEncoder\n",
    "from sklearn.compose import make_column_transformer\n",
    "column_trans = make_column_transformer(\n",
    "    (OneHotEncoder(),['Team1', 'Team2']),remainder='passthrough')\n",
    "\n",
    "pipe_X = pipe_DF.drop(['Team1_Result', 'opp_code', 'team1_code'],axis=1)\n",
    "pipe_y = pipe_DF['Team1_Result']\n",
    "\n",
    "from sklearn.pipeline import make_pipeline\n",
    "pipe_League = make_pipeline(column_trans,StandardScaler(with_mean=False),model)\n",
    "pipe_League.fit(pipe_X,pipe_y)"
   ]
  },
  {
   "cell_type": "code",
   "execution_count": 49,
   "id": "7f155b0d",
   "metadata": {},
   "outputs": [
    {
     "data": {
      "text/plain": [
       "Pipeline(steps=[('columntransformer',\n",
       "                 ColumnTransformer(remainder='passthrough',\n",
       "                                   transformers=[('onehotencoder',\n",
       "                                                  OneHotEncoder(),\n",
       "                                                  ['Team1', 'Team2'])])),\n",
       "                ('standardscaler', StandardScaler(with_mean=False)),\n",
       "                ('randomforestclassifier',\n",
       "                 RandomForestClassifier(max_depth=17, min_samples_leaf=2,\n",
       "                                        n_estimators=31, random_state=0))])"
      ]
     },
     "execution_count": 49,
     "metadata": {},
     "output_type": "execute_result"
    }
   ],
   "source": [
    "pipe_League"
   ]
  },
  {
   "cell_type": "code",
   "execution_count": 50,
   "id": "34b497e0",
   "metadata": {},
   "outputs": [
    {
     "data": {
      "text/plain": [
       "['groups_stage_prediction.pkl']"
      ]
     },
     "execution_count": 50,
     "metadata": {},
     "output_type": "execute_result"
    }
   ],
   "source": [
    "import joblib\n",
    "joblib.dump(pipe_League,\"groups_stage_prediction.pkl\")"
   ]
  }
 ],
 "metadata": {
  "kernelspec": {
   "display_name": "Python 3 (ipykernel)",
   "language": "python",
   "name": "python3"
  },
  "language_info": {
   "codemirror_mode": {
    "name": "ipython",
    "version": 3
   },
   "file_extension": ".py",
   "mimetype": "text/x-python",
   "name": "python",
   "nbconvert_exporter": "python",
   "pygments_lexer": "ipython3",
   "version": "3.9.12"
  }
 },
 "nbformat": 4,
 "nbformat_minor": 5
}
